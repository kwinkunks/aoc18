{
 "cells": [
  {
   "cell_type": "code",
   "execution_count": 1,
   "metadata": {},
   "outputs": [],
   "source": [
    "reg = [0, 0, 0, 0]"
   ]
  },
  {
   "cell_type": "code",
   "execution_count": 2,
   "metadata": {},
   "outputs": [],
   "source": [
    "data = \"\"\"Before: [3, 2, 1, 1]\n",
    "9 2 1 2\n",
    "After:  [3, 2, 2, 1]\"\"\""
   ]
  },
  {
   "cell_type": "code",
   "execution_count": 3,
   "metadata": {},
   "outputs": [],
   "source": [
    "from day16_data import data"
   ]
  },
  {
   "cell_type": "code",
   "execution_count": 4,
   "metadata": {},
   "outputs": [],
   "source": [
    "import operator\n",
    "\n",
    "OPS = {\n",
    "    'mu': operator.mul,\n",
    "    'ad': operator.add,\n",
    "    'ba': operator.and_,\n",
    "    'bo': operator.or_,\n",
    "    'gt': operator.gt,\n",
    "    'eq': operator.eq,\n",
    "}\n",
    "\n",
    "def operate(reg, op, A, B, C):\n",
    "\n",
    "    out = reg.copy()\n",
    "    if op[:2] in ['gt', 'eq']:\n",
    "        regi = op[-2:]\n",
    "    else:\n",
    "        regi = 'r' + op[-1]\n",
    "\n",
    "    if op[:2] == 'se':  # Special case.\n",
    "        out[C] = A if regi[-1] == 'i' else reg[A]\n",
    "        return out\n",
    "\n",
    "    a = A if regi[0] == 'i' else reg[A]\n",
    "    b = B if regi[1] == 'i' else reg[B]\n",
    "\n",
    "    out[C] = OPS[op[:2]](a, b)\n",
    "    return out"
   ]
  },
  {
   "cell_type": "code",
   "execution_count": 5,
   "metadata": {},
   "outputs": [],
   "source": [
    "opcodes = [\n",
    "    'addr', 'addi',\n",
    "    'mulr', 'muli',\n",
    "    'banr', 'bani',\n",
    "    'borr', 'bori',\n",
    "    'setr', 'seti',\n",
    "    'gtir', 'gtri', 'gtrr',\n",
    "    'eqir', 'eqri', 'eqrr',\n",
    "]"
   ]
  },
  {
   "cell_type": "code",
   "execution_count": 6,
   "metadata": {},
   "outputs": [],
   "source": [
    "import re\n",
    "from collections import defaultdict\n",
    "\n",
    "pattern = re.compile(r'([0-9])[,\\]]')\n",
    "go = False\n",
    "\n",
    "result = defaultdict(list)\n",
    "posses = []\n",
    "\n",
    "for line in filter(None, data.split('\\n')):\n",
    "\n",
    "    if line[0] == 'B':\n",
    "        reg0 = [int(x) for x in pattern.findall(line)]\n",
    "        go = False\n",
    "    elif line[0] == 'A':\n",
    "        reg1 = [int(x) for x in pattern.findall(line)]\n",
    "        go = True\n",
    "    else:\n",
    "        op, A, B, C = [int(x) for x in line.split()]\n",
    "        go = False\n",
    "        \n",
    "    if go:\n",
    "        poss = 0\n",
    "        for opcode in opcodes:\n",
    "            reg = operate(reg0, opcode, A, B, C)\n",
    "            if reg == reg1:\n",
    "                result[opcode].append(op)\n",
    "                poss += 1\n",
    "        posses.append(poss)\n",
    "    else:\n",
    "        continue\n",
    "        "
   ]
  },
  {
   "cell_type": "code",
   "execution_count": 7,
   "metadata": {},
   "outputs": [
    {
     "data": {
      "text/plain": [
       "642"
      ]
     },
     "execution_count": 7,
     "metadata": {},
     "output_type": "execute_result"
    }
   ],
   "source": [
    "len([p for p in posses if p >= 3])"
   ]
  },
  {
   "cell_type": "markdown",
   "metadata": {},
   "source": [
    "## Part 2"
   ]
  },
  {
   "cell_type": "code",
   "execution_count": 8,
   "metadata": {},
   "outputs": [
    {
     "data": {
      "text/plain": [
       "defaultdict(list,\n",
       "            {'addi': {1, 6, 12},\n",
       "             'addr': {6, 12},\n",
       "             'bani': {4, 5, 6, 8, 9, 14, 15},\n",
       "             'banr': {1, 4, 5, 6, 8, 14, 15},\n",
       "             'bori': {1, 6, 8, 12},\n",
       "             'borr': {1, 6, 8, 12, 14},\n",
       "             'eqir': {0, 1, 2, 5, 7, 9, 10, 11, 13, 14, 15},\n",
       "             'eqri': {2, 4, 5, 7, 9, 10, 11, 15},\n",
       "             'eqrr': {1, 2, 4, 5, 9, 11, 13, 14, 15},\n",
       "             'gtir': {2, 3, 4, 5, 6, 9, 12, 15},\n",
       "             'gtri': {1, 2, 4, 5, 6, 9, 10, 12, 13, 15},\n",
       "             'gtrr': {2, 5, 6, 9, 10, 12, 15},\n",
       "             'muli': {6},\n",
       "             'mulr': {1, 4, 6, 14},\n",
       "             'seti': {1, 4, 5, 6, 8, 12, 14},\n",
       "             'setr': {1, 3, 6, 8, 12, 14}})"
      ]
     },
     "execution_count": 8,
     "metadata": {},
     "output_type": "execute_result"
    }
   ],
   "source": [
    "for k, v in result.items():\n",
    "    result[k] = set(v)\n",
    "result"
   ]
  },
  {
   "cell_type": "code",
   "execution_count": 9,
   "metadata": {},
   "outputs": [
    {
     "data": {
      "text/plain": [
       "{0: 'eqir',\n",
       " 1: 'addi',\n",
       " 2: 'gtir',\n",
       " 3: 'setr',\n",
       " 4: 'mulr',\n",
       " 5: 'seti',\n",
       " 6: 'muli',\n",
       " 7: 'eqri',\n",
       " 8: 'bori',\n",
       " 9: 'bani',\n",
       " 10: 'gtrr',\n",
       " 11: 'eqrr',\n",
       " 12: 'addr',\n",
       " 13: 'gtri',\n",
       " 14: 'borr',\n",
       " 15: 'banr'}"
      ]
     },
     "execution_count": 9,
     "metadata": {},
     "output_type": "execute_result"
    }
   ],
   "source": [
    "opcodes = {\n",
    "    'addi': 1,\n",
    "    'addr': 12,\n",
    "    'bani': 9,\n",
    "    'banr': 15,\n",
    "    'bori': 8,\n",
    "    'borr': 14,\n",
    "    'eqir': 0,\n",
    "    'eqri': 7,\n",
    "    'eqrr': 11,\n",
    "    'gtir': 2,\n",
    "    'gtri': 13,\n",
    "    'gtrr': 10,\n",
    "    'muli': 6,\n",
    "    'mulr': 4,\n",
    "    'seti': 5,\n",
    "    'setr': 3,\n",
    "}\n",
    "\n",
    "opcodes = {v:k for k, v in opcodes.items()}\n",
    "\n",
    "opcodes"
   ]
  },
  {
   "cell_type": "code",
   "execution_count": 10,
   "metadata": {},
   "outputs": [
    {
     "name": "stdout",
     "output_type": "stream",
     "text": [
      "[481, 481, 3, 0]\n"
     ]
    }
   ],
   "source": [
    "from day16_data import prog\n",
    "\n",
    "reg = [0, 0, 0, 0]\n",
    "for line in prog.split('\\n'):\n",
    "    opcode, A, B, C = [int(x) for x in line.split()]\n",
    "    reg = operate(reg, opcodes[opcode], A, B, C)\n",
    "print(reg)"
   ]
  },
  {
   "cell_type": "code",
   "execution_count": null,
   "metadata": {},
   "outputs": [],
   "source": []
  }
 ],
 "metadata": {
  "kernelspec": {
   "display_name": "py36",
   "language": "python",
   "name": "py36"
  },
  "language_info": {
   "codemirror_mode": {
    "name": "ipython",
    "version": 3
   },
   "file_extension": ".py",
   "mimetype": "text/x-python",
   "name": "python",
   "nbconvert_exporter": "python",
   "pygments_lexer": "ipython3",
   "version": "3.6.4"
  }
 },
 "nbformat": 4,
 "nbformat_minor": 2
}
