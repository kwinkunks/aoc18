{
 "cells": [
  {
   "cell_type": "markdown",
   "metadata": {},
   "source": [
    "## Day 14 in Julia\n",
    "\n",
    "Still takes ca. 20 seconds..."
   ]
  },
  {
   "cell_type": "code",
   "execution_count": 1,
   "metadata": {},
   "outputs": [],
   "source": [
    "nmax = 25000000\n",
    "recipes = Array{Int8}(undef, nmax)\n",
    "recipes[1] = 3\n",
    "recipes[2] = 7;"
   ]
  },
  {
   "cell_type": "code",
   "execution_count": 4,
   "metadata": {},
   "outputs": [
    {
     "name": "stdout",
     "output_type": "stream",
     "text": [
      "20182290\n"
     ]
    }
   ],
   "source": [
    "# 3, 8, 0, 6, 2, 1\n",
    "\n",
    "elf1 = 1\n",
    "elf2 = 2\n",
    "i = 3\n",
    "\n",
    "while i < nmax\n",
    "\n",
    "    e1 = recipes[elf1]\n",
    "    e2 = recipes[elf2]\n",
    "\n",
    "    # Sum and append next.\n",
    "    n = e1 + e2\n",
    "    if div(n, 10) > 0\n",
    "        recipes[i] = 1\n",
    "        global i += 1\n",
    "    end\n",
    "    if i > 7\n",
    "        if recipes[i-6:i-1] == [3,8,0,6,2,1]\n",
    "            println(i-7)\n",
    "            break\n",
    "        end\n",
    "    end\n",
    "\n",
    "    recipes[i] = n % 10\n",
    "    global i += 1\n",
    "    if i > 7\n",
    "        if recipes[i-6:i-1] == [3,8,0,6,2,1]\n",
    "            println(i-7)\n",
    "            break\n",
    "        end\n",
    "    end\n",
    "\n",
    "    # Count to new.\n",
    "    elf1 = 1 + (elf1-1 + e1 + 1) % (i - 1)\n",
    "    elf2 = 1 + (elf2-1 + e2 + 1) % (i - 1)\n",
    "\n",
    "end"
   ]
  },
  {
   "cell_type": "code",
   "execution_count": null,
   "metadata": {},
   "outputs": [],
   "source": []
  }
 ],
 "metadata": {
  "kernelspec": {
   "display_name": "Julia 1.0.0",
   "language": "julia",
   "name": "julia-1.0"
  },
  "language_info": {
   "file_extension": ".jl",
   "mimetype": "application/julia",
   "name": "julia",
   "version": "1.0.0"
  }
 },
 "nbformat": 4,
 "nbformat_minor": 2
}
