{
 "cells": [
  {
   "cell_type": "markdown",
   "metadata": {},
   "source": [
    "## Day 19"
   ]
  },
  {
   "cell_type": "code",
   "execution_count": 42,
   "metadata": {},
   "outputs": [],
   "source": [
    "import operator\n",
    "\n",
    "OPS = {\n",
    "    'mu': operator.mul,\n",
    "    'ad': operator.add,\n",
    "    'ba': operator.and_,\n",
    "    'bo': operator.or_,\n",
    "    'gt': operator.gt,\n",
    "    'eq': operator.eq,\n",
    "}\n",
    "\n",
    "def operate(reg, op, A, B, C):\n",
    "\n",
    "    # Don't modify in place.\n",
    "    # Should maybe have done with reg as class.\n",
    "    out = reg.copy()\n",
    "\n",
    "    # Set up the registers.\n",
    "    if op[:2] in ['gt', 'eq']:\n",
    "        regi = op[-2:]\n",
    "    else:\n",
    "        regi = 'r' + op[-1]\n",
    "\n",
    "    # setitem is a special case.\n",
    "    if op[:2] == 'se':\n",
    "        out[C] = A if regi[-1] == 'i' else reg[A]\n",
    "        return out\n",
    "\n",
    "    # Set up the operands.\n",
    "    a = A if regi[0] == 'i' else reg[A]\n",
    "    b = B if regi[1] == 'i' else reg[B]\n",
    "\n",
    "    # Do the operation.\n",
    "    out[C] = OPS[op[:2]](a, b)\n",
    "\n",
    "    return [int(x) for x in out]"
   ]
  },
  {
   "cell_type": "markdown",
   "metadata": {},
   "source": [
    "## Part 1"
   ]
  },
  {
   "cell_type": "markdown",
   "metadata": {},
   "source": [
    "Run the program..."
   ]
  },
  {
   "cell_type": "code",
   "execution_count": 43,
   "metadata": {},
   "outputs": [],
   "source": [
    "prog = \"\"\"seti 5 0 1\n",
    "seti 6 0 2\n",
    "addi 0 1 0\n",
    "addr 1 2 3\n",
    "setr 1 0 0\n",
    "seti 8 0 4\n",
    "seti 9 0 5\"\"\""
   ]
  },
  {
   "cell_type": "code",
   "execution_count": 44,
   "metadata": {},
   "outputs": [],
   "source": [
    "from day19_data import prog"
   ]
  },
  {
   "cell_type": "code",
   "execution_count": 45,
   "metadata": {},
   "outputs": [],
   "source": [
    "prog_ = prog.split('\\n')"
   ]
  },
  {
   "cell_type": "code",
   "execution_count": 46,
   "metadata": {},
   "outputs": [],
   "source": [
    "prog_ = prog_[1:]"
   ]
  },
  {
   "cell_type": "code",
   "execution_count": 47,
   "metadata": {},
   "outputs": [
    {
     "data": {
      "text/plain": [
       "36"
      ]
     },
     "execution_count": 47,
     "metadata": {},
     "output_type": "execute_result"
    }
   ],
   "source": [
    "len(prog_)"
   ]
  },
  {
   "cell_type": "code",
   "execution_count": null,
   "metadata": {},
   "outputs": [],
   "source": [
    "reg = [1, 0, 0, 0, 0, 0]\n",
    "ipr = 4\n",
    "ip = 0\n",
    "verbose = 0\n",
    "\n",
    "cycle = 0\n",
    "while cycle <= 100000:\n",
    "    \n",
    "    if verbose:\n",
    "        print(reg, end=' ')\n",
    "    \n",
    "    try:\n",
    "        line = prog_[int(ip)]\n",
    "    except IndexError:\n",
    "        break\n",
    "        \n",
    "    if verbose:\n",
    "        print(line, end=' ')\n",
    "\n",
    "\n",
    "    if line.startswith('#'):\n",
    "        ipr = int(line.split()[-1])\n",
    "        ip += 1\n",
    "        continue\n",
    "\n",
    "    # Record the ip.\n",
    "    #operate(reg, 'seti', ip, 0, ipr)\n",
    "    reg[ipr] = ip\n",
    "    \n",
    "    # Get the instruction.\n",
    "    opcode, A, B, C = [int(x) if x.isnumeric() else x for x in line.split()]\n",
    "    reg = operate(reg, opcode, A, B, C)\n",
    "    \n",
    "    # Recover the ip and increment.\n",
    "    ip = reg[ipr] + 1\n",
    "\n",
    "    if verbose:\n",
    "        print(reg)\n",
    "\n",
    "    cycle += 1\n",
    "\n",
    "print(reg)"
   ]
  },
  {
   "cell_type": "markdown",
   "metadata": {},
   "source": [
    "## Part 2"
   ]
  },
  {
   "cell_type": "code",
   "execution_count": 52,
   "metadata": {},
   "outputs": [
    {
     "data": {
      "text/plain": [
       "7193436"
      ]
     },
     "execution_count": 52,
     "metadata": {},
     "output_type": "execute_result"
    }
   ],
   "source": [
    "cycle"
   ]
  },
  {
   "cell_type": "code",
   "execution_count": 58,
   "metadata": {},
   "outputs": [
    {
     "data": {
      "text/plain": [
       "86.18181818181819"
      ]
     },
     "execution_count": 58,
     "metadata": {},
     "output_type": "execute_result"
    }
   ],
   "source": [
    "948/11"
   ]
  },
  {
   "cell_type": "code",
   "execution_count": 67,
   "metadata": {},
   "outputs": [
    {
     "data": {
      "text/plain": [
       "316.0"
      ]
     },
     "execution_count": 67,
     "metadata": {},
     "output_type": "execute_result"
    }
   ],
   "source": [
    "948/3"
   ]
  },
  {
   "cell_type": "code",
   "execution_count": 68,
   "metadata": {},
   "outputs": [
    {
     "data": {
      "text/plain": [
       "237.0"
      ]
     },
     "execution_count": 68,
     "metadata": {},
     "output_type": "execute_result"
    }
   ],
   "source": [
    "948/4"
   ]
  },
  {
   "cell_type": "code",
   "execution_count": 70,
   "metadata": {},
   "outputs": [
    {
     "data": {
      "text/plain": [
       "158.0"
      ]
     },
     "execution_count": 70,
     "metadata": {},
     "output_type": "execute_result"
    }
   ],
   "source": [
    "948/6"
   ]
  },
  {
   "cell_type": "code",
   "execution_count": 77,
   "metadata": {},
   "outputs": [
    {
     "data": {
      "text/plain": [
       "118.5"
      ]
     },
     "execution_count": 77,
     "metadata": {},
     "output_type": "execute_result"
    }
   ],
   "source": [
    "948/8"
   ]
  },
  {
   "cell_type": "code",
   "execution_count": 75,
   "metadata": {},
   "outputs": [
    {
     "data": {
      "text/plain": [
       "79.0"
      ]
     },
     "execution_count": 75,
     "metadata": {},
     "output_type": "execute_result"
    }
   ],
   "source": [
    "948/12"
   ]
  },
  {
   "cell_type": "code",
   "execution_count": 76,
   "metadata": {},
   "outputs": [
    {
     "data": {
      "text/plain": [
       "22"
      ]
     },
     "execution_count": 76,
     "metadata": {},
     "output_type": "execute_result"
    }
   ],
   "source": [
    "1,2,3,4,6,12\n",
    "1,3,6,10,16,28"
   ]
  },
  {
   "cell_type": "code",
   "execution_count": 82,
   "metadata": {},
   "outputs": [
    {
     "data": {
      "text/plain": [
       "10551348"
      ]
     },
     "execution_count": 82,
     "metadata": {},
     "output_type": "execute_result"
    }
   ],
   "source": [
    "10551348"
   ]
  },
  {
   "cell_type": "code",
   "execution_count": 85,
   "metadata": {},
   "outputs": [],
   "source": [
    "# Sum of factors\n",
    "def compute(x):\n",
    "    result = 0\n",
    "    for i in range(1, x+1):\n",
    "        if not x % i:\n",
    "            result += i\n",
    "    return result"
   ]
  },
  {
   "cell_type": "code",
   "execution_count": 27,
   "metadata": {},
   "outputs": [],
   "source": [
    "def compute(x):\n",
    "    return sum(i for i in range(1, x+1) if not x % i)"
   ]
  },
  {
   "cell_type": "code",
   "execution_count": 28,
   "metadata": {},
   "outputs": [
    {
     "data": {
      "text/plain": [
       "2240"
      ]
     },
     "execution_count": 28,
     "metadata": {},
     "output_type": "execute_result"
    }
   ],
   "source": [
    "compute(948)"
   ]
  },
  {
   "cell_type": "code",
   "execution_count": 29,
   "metadata": {},
   "outputs": [
    {
     "data": {
      "text/plain": [
       "5301"
      ]
     },
     "execution_count": 29,
     "metadata": {},
     "output_type": "execute_result"
    }
   ],
   "source": [
    "compute(2450)"
   ]
  },
  {
   "cell_type": "code",
   "execution_count": 30,
   "metadata": {},
   "outputs": [
    {
     "data": {
      "text/plain": [
       "26671554"
      ]
     },
     "execution_count": 30,
     "metadata": {},
     "output_type": "execute_result"
    }
   ],
   "source": [
    "compute(10551348)"
   ]
  },
  {
   "cell_type": "code",
   "execution_count": null,
   "metadata": {},
   "outputs": [],
   "source": []
  }
 ],
 "metadata": {
  "kernelspec": {
   "display_name": "Python [conda env:py36]",
   "language": "python",
   "name": "conda-env-py36-py"
  },
  "language_info": {
   "codemirror_mode": {
    "name": "ipython",
    "version": 3
   },
   "file_extension": ".py",
   "mimetype": "text/x-python",
   "name": "python",
   "nbconvert_exporter": "python",
   "pygments_lexer": "ipython3",
   "version": "3.6.4"
  }
 },
 "nbformat": 4,
 "nbformat_minor": 2
}
