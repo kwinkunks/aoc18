{
 "cells": [
  {
   "cell_type": "code",
   "execution_count": 1,
   "metadata": {},
   "outputs": [],
   "source": [
    "import re"
   ]
  },
  {
   "cell_type": "code",
   "execution_count": 2,
   "metadata": {},
   "outputs": [],
   "source": [
    "rules_ = \"\"\"..#.# => #\n",
    "###.# => .\n",
    "#.#.# => .\n",
    ".#.#. => .\n",
    "##... => #\n",
    "...## => .\n",
    ".##.# => .\n",
    ".#... => #\n",
    "####. => #\n",
    "....# => .\n",
    ".##.. => #\n",
    ".#### => #\n",
    "..### => .\n",
    ".###. => #\n",
    "##### => #\n",
    "..#.. => #\n",
    "#..#. => .\n",
    "###.. => #\n",
    "#..## => #\n",
    "##.## => #\n",
    "##..# => .\n",
    ".#..# => #\n",
    "#.#.. => #\n",
    "#.### => #\n",
    "#.##. => #\n",
    "..... => .\n",
    ".#.## => #\n",
    "#...# => .\n",
    "...#. => #\n",
    "..##. => #\n",
    "##.#. => #\n",
    "#.... => .\"\"\"\n",
    "\n",
    "rules = re.findall(r\"([.#]+) => #\", rules_)"
   ]
  },
  {
   "cell_type": "code",
   "execution_count": 5,
   "metadata": {},
   "outputs": [],
   "source": [
    "def play(pots, rules):\n",
    "    after = \"..\"\n",
    "    for p, _ in enumerate(pots[2:-2]):\n",
    "        this = pots[p:p+5]\n",
    "        after += '#' if any(1 if this==rule else 0 for rule in rules) else '.'\n",
    "    after += '..'\n",
    "    return after"
   ]
  },
  {
   "cell_type": "code",
   "execution_count": 8,
   "metadata": {},
   "outputs": [
    {
     "name": "stdout",
     "output_type": "stream",
     "text": [
      ".........................................................................................................................................................................................................................................................................................................................................................................................................................................................................................................................................................................................................................................................................................................................................................................................................................................................................................................................................................................................................................................................................................................................................................##########################################################################################################################################################################################................................................................................................................................................................................................................................................................................................................................................................................................................................................................................................................................................................................................................................................................................................................................................................................................................................\n"
     ]
    }
   ],
   "source": [
    "# Prepare input\n",
    "pad = 1000\n",
    "pots = \"###..###....####.###...#..#...##...#..#....#.##.##.#..#.#..##.#####..######....#....##..#...#...#.#\"\n",
    "pots = pad * '.' + pots + pad * '.'\n",
    "\n",
    "# Play time forward.\n",
    "for _ in range(200):\n",
    "    pots = play(pots, rules)\n",
    "print(pots)"
   ]
  },
  {
   "cell_type": "code",
   "execution_count": 9,
   "metadata": {},
   "outputs": [
    {
     "data": {
      "text/plain": [
       "38223"
      ]
     },
     "execution_count": 9,
     "metadata": {},
     "output_type": "execute_result"
    }
   ],
   "source": [
    "# Get the sum.\n",
    "sum(i-pad for i, pot in enumerate(pots) if pot=='#')"
   ]
  },
  {
   "cell_type": "markdown",
   "metadata": {},
   "source": [
    "## Part 2"
   ]
  },
  {
   "cell_type": "code",
   "execution_count": 11,
   "metadata": {},
   "outputs": [
    {
     "data": {
      "text/plain": [
       "[<matplotlib.lines.Line2D at 0x7f95f3be5358>]"
      ]
     },
     "execution_count": 11,
     "metadata": {},
     "output_type": "execute_result"
    },
    {
     "data": {
      "image/png": "[encoded data removed]",
      "text/plain": [
       "<Figure size 432x288 with 1 Axes>"
      ]
     },
     "metadata": {},
     "output_type": "display_data"
    }
   ],
   "source": [
    "x = [50, 100, 200, 400, 1000]\n",
    "y = [10687, 19623, 38223, 75423, 187023]\n",
    "\n",
    "%matplotlib inline\n",
    "import matplotlib.pyplot as plt\n",
    "\n",
    "plt.plot(x, y)"
   ]
  },
  {
   "cell_type": "code",
   "execution_count": 12,
   "metadata": {},
   "outputs": [
    {
     "data": {
      "text/plain": [
       "9300000001023.0"
      ]
     },
     "execution_count": 12,
     "metadata": {},
     "output_type": "execute_result"
    }
   ],
   "source": [
    "target = 50000000000\n",
    "19623 + 18600 * (target-100) / 100\n"
   ]
  },
  {
   "cell_type": "code",
   "execution_count": null,
   "metadata": {},
   "outputs": [],
   "source": []
  }
 ],
 "metadata": {
  "kernelspec": {
   "display_name": "py36",
   "language": "python",
   "name": "py36"
  },
  "language_info": {
   "codemirror_mode": {
    "name": "ipython",
    "version": 3
   },
   "file_extension": ".py",
   "mimetype": "text/x-python",
   "name": "python",
   "nbconvert_exporter": "python",
   "pygments_lexer": "ipython3",
   "version": "3.6.4"
  }
 },
 "nbformat": 4,
 "nbformat_minor": 2
}
