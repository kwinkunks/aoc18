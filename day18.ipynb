{
 "cells": [
  {
   "cell_type": "markdown",
   "metadata": {},
   "source": [
    "# Day 18"
   ]
  },
  {
   "cell_type": "code",
   "execution_count": 44,
   "metadata": {},
   "outputs": [],
   "source": [
    "def neighbours(world, loc):\n",
    "    x, y = loc\n",
    "    rels = [\n",
    "        (-1, -1),\n",
    "        (0, -1),\n",
    "        (1, -1),\n",
    "        (-1, 0),\n",
    "        (1, 0),\n",
    "        (-1, 1),\n",
    "        (0, 1),\n",
    "        (1,1)\n",
    "    ]\n",
    "    ns = []\n",
    "    for xi, yi in rels:\n",
    "        \n",
    "        if x+xi < 0 or y+yi < 0:\n",
    "            continue\n",
    "        else:\n",
    "            try:\n",
    "                ns.append(world[y+yi][x+xi])\n",
    "            except IndexError:\n",
    "                continue\n",
    "    return ns\n"
   ]
  },
  {
   "cell_type": "code",
   "execution_count": 45,
   "metadata": {},
   "outputs": [],
   "source": [
    "data = \"\"\".#.#...|#.\n",
    ".....#|##|\n",
    ".|..|...#.\n",
    "..|#.....#\n",
    "#.#|||#|#|\n",
    "...#.||...\n",
    ".|....|...\n",
    "||...#|.#|\n",
    "|.||||..|.\n",
    "...#.|..|.\"\"\""
   ]
  },
  {
   "cell_type": "code",
   "execution_count": 46,
   "metadata": {},
   "outputs": [
    {
     "data": {
      "text/plain": [
       "['.', '.', '.', '#', '|']"
      ]
     },
     "execution_count": 46,
     "metadata": {},
     "output_type": "execute_result"
    }
   ],
   "source": [
    "world = [list(r) for r in data.split('\\n')]\n",
    "\n",
    "neighbours(world, (5, 0))"
   ]
  },
  {
   "cell_type": "code",
   "execution_count": 47,
   "metadata": {},
   "outputs": [],
   "source": [
    "data =\"\"\".||..#.#.#..#..#|...#|....|.|.#.###....##.|#..#...\n",
    "..##||.#......|#...#.|..#.....##|.#.##|...|.|.#..#\n",
    "##||.#..#.#...|..|...||.||...#|.#....|..|.#|..|#|#\n",
    "....||..#...|||.#...|.|...|.#.|...##.#||.#.......#\n",
    ".|.....#.||.#|#.#..|..#..#.|...||.##|.#......#..#|\n",
    "|..|...#..#.|#|.#......|.||||.#....#....#|||..#..|\n",
    "..#..#.#..#....|#|#||....|.#.#...||#..|.|.##..#|.|\n",
    "....#.|...#|..#.|.#...|..#|.##.#......##.#....##..\n",
    ".#..|.|.#..||....||....|.||.##.|#|#||.#...|.|.|||#\n",
    "##..##|....|.|#.....|...........|#.|........|...|.\n",
    "||.|...#.#...#....|.#|..##.|......|#..#.#.##..#|#.\n",
    "|....|.#|#|....#...|...#.|#|..||.||##..##..|#|##..\n",
    "|.||..#.#..|.#......|#..##|...#....|#.......#...|.\n",
    ".|#......||.......|..||..#..#|..|..|.#.|.#.|......\n",
    ".#.#.|.|.#.....|.|..|.###..|#....#.||..|..|.......\n",
    ".|.......|##|.#.....|.|..|.##.||###.#.|..##|...|..\n",
    "|#...##..||..|..|#.|...|....||.......|#.|...|.|.|.\n",
    "..#.||#....#....||.|....#.#....#...|...#...#|.#.#.\n",
    "|...|.#|..|||.|.#.#..#.|.|....#...#.##..#....|#.|#\n",
    "#|#|..#.....|#||.....#|.|.#.||..||.|||.#|#||#|.|..\n",
    ".....#|..|.##|....|.#..|.#.#...#...#....|.#|...|#.\n",
    "#..|#.##..|..###.#|.||..#.#|#||.#|##.#..#.#.|.....\n",
    "|.#.....##...|..###|...##|......##|#|.....#..|..#.\n",
    ".|..|..|...#.|......|#|.........|....|#........|..\n",
    ".#....|#.|...|.....|#.#...|.|###.|..##|.#|.#.|....\n",
    ".......#|#||||#.|..|.#|||.#..#...##..#..#..#|#.#.#\n",
    "|#...|||.||.....#.|##........|#|..|.##||..|.....|#\n",
    ".|#|.||....###..#.#..|.....|.##..||.###.|...#....#\n",
    ".#..#..||.....#.#..||#.#....#.||..|.#.|.|...|...#.\n",
    "..#|#...||..#....#|..|..#.#.......|#####.|.##..|..\n",
    "..|.|.||....#|#.......|.|.#...|.|||#|..#..#.#...##\n",
    "||..#....#..||#....|..|.||#|.|##|.|#|.|#..|...#|..\n",
    "#...|#..#..#....|...#.#.......#..#...|..|#||..|...\n",
    "......#||#...#|###.#|.|...#..###|.|#..|..|...#..#|\n",
    ".|...#....|#.#..#......#|...|.##.#|||.###.#|...#|#\n",
    "..||..##.#|.#.....#...|..#..|.#..|#...|.#..||...##\n",
    "...##.|.....##......##.##.#.##|##.|..|.#...#.#.|||\n",
    "...#|#....#.....|.#.|...|||.#|.|#......|#...|#....\n",
    "...........#|....|.##...|##|..|#|#|.|#.|...#......\n",
    "....|..|..#..|#...#..#.###...###....####..##.##...\n",
    ".##|.....#....|...|#..|..|#..|.|...#....#||....#..\n",
    "#..#|#|..|.#....|..#..|#.#....#.#.||..#.#.#||#...|\n",
    "||...|.|.|.||#.......|.#..#.|.#...#.||.||.#.|.|..#\n",
    "...#....|.......#...||.......|.....#...........|#.\n",
    "...#.#..##...|....#.|.|.#......#.|||....#.|.|...|.\n",
    ".##|.|...#|...#.|.#|.|...|#...#....|#.#.|#..#|||..\n",
    "###|.#.|#.|.|.#.||#.|.........|#...#.#....|#....#.\n",
    ".#.........|....#.|...#..#...|.|......|.|.|..||...\n",
    "|#...|....|||.#.||||.#|...#.#..|.......#....#.#...\n",
    "#|#.##.#.#.|...|....#.###....|..#....#.....|#.||..\"\"\""
   ]
  },
  {
   "cell_type": "markdown",
   "metadata": {},
   "source": [
    "- An open acre will become filled with trees if three or more adjacent acres contained trees. Otherwise, nothing happens.\n",
    "- An acre filled with trees will become a lumberyard if three or more adjacent acres were lumberyards. Otherwise, nothing happens.\n",
    "- An acre containing a lumberyard will remain a lumberyard if it was adjacent to at least one other lumberyard and at least one acre containing trees. Otherwise, it becomes open.\n"
   ]
  },
  {
   "cell_type": "code",
   "execution_count": 5,
   "metadata": {},
   "outputs": [],
   "source": [
    "def pprint(world):\n",
    "    for r in world:\n",
    "        print(''.join(r))\n",
    "    return"
   ]
  },
  {
   "cell_type": "code",
   "execution_count": 56,
   "metadata": {},
   "outputs": [],
   "source": [
    "import copy\n",
    "\n",
    "world = [list(r) for r in data.split('\\n')]\n",
    "\n",
    "def play(world, time):\n",
    "\n",
    "    scores = []\n",
    "\n",
    "    for _ in range(time):\n",
    "        w = copy.deepcopy(world)\n",
    "        for y, row in enumerate(world):\n",
    "            for x, e in enumerate(row):\n",
    "                ns = neighbours(world, (x, y))\n",
    "                if e == '.' and ns.count('|') >= 3:\n",
    "                    w[y][x] = '|'\n",
    "                elif e == '|' and ns.count('#') >= 3:\n",
    "                    w[y][x] = '#'\n",
    "                elif e == '#':\n",
    "                    if ns.count('#') >= 1 and ns.count('|') >= 1:\n",
    "                        w[y][x] = '#'\n",
    "                    else:\n",
    "                        w[y][x] = '.'\n",
    "        world = copy.deepcopy(w)\n",
    "        c = [(r.count('|'), r.count('#')) for r in world]\n",
    "        cw, cl = sum(x[0] for x in c), sum(x[1] for x in c)\n",
    "        scores.append(cw * cl)\n",
    "        \n",
    "    return world, scores"
   ]
  },
  {
   "cell_type": "code",
   "execution_count": 57,
   "metadata": {},
   "outputs": [],
   "source": [
    "world, scores = play(world, time=1000)"
   ]
  },
  {
   "cell_type": "code",
   "execution_count": 58,
   "metadata": {},
   "outputs": [
    {
     "data": {
      "text/plain": [
       "[<matplotlib.lines.Line2D at 0x7f99d7eb52e8>]"
      ]
     },
     "execution_count": 58,
     "metadata": {},
     "output_type": "execute_result"
    },
    {
     "data": {
      "image/png": "[encoded data removed]",
      "text/plain": [
       "<Figure size 432x288 with 1 Axes>"
      ]
     },
     "metadata": {},
     "output_type": "display_data"
    }
   ],
   "source": [
    "%matplotlib inline\n",
    "import matplotlib.pyplot as plt\n",
    "\n",
    "plt.plot(scores)"
   ]
  },
  {
   "cell_type": "code",
   "execution_count": 59,
   "metadata": {},
   "outputs": [
    {
     "data": {
      "text/plain": [
       "[<matplotlib.lines.Line2D at 0x7f99d7e03a90>]"
      ]
     },
     "execution_count": 59,
     "metadata": {},
     "output_type": "execute_result"
    },
    {
     "data": {
      "image/png": "[encoded data removed]",
      "text/plain": [
       "<Figure size 432x288 with 1 Axes>"
      ]
     },
     "metadata": {},
     "output_type": "display_data"
    }
   ],
   "source": [
    "plt.plot(scores[-32:-1])"
   ]
  },
  {
   "cell_type": "code",
   "execution_count": 60,
   "metadata": {},
   "outputs": [
    {
     "data": {
      "text/plain": [
       "[176782,\n",
       " 179034,\n",
       " 180800,\n",
       " 183218,\n",
       " 186472,\n",
       " 188679,\n",
       " 192560,\n",
       " 193050,\n",
       " 197568,\n",
       " 200260,\n",
       " 199841,\n",
       " 204516,\n",
       " 208547,\n",
       " 211584,\n",
       " 214635,\n",
       " 214635,\n",
       " 216389,\n",
       " 218160,\n",
       " 217540,\n",
       " 212576,\n",
       " 208362,\n",
       " 196305,\n",
       " 189610,\n",
       " 181044,\n",
       " 178398,\n",
       " 175593,\n",
       " 175593,\n",
       " 175840,\n",
       " 176782]"
      ]
     },
     "execution_count": 60,
     "metadata": {},
     "output_type": "execute_result"
    }
   ],
   "source": [
    "scores[-29:]"
   ]
  },
  {
   "cell_type": "code",
   "execution_count": 61,
   "metadata": {},
   "outputs": [
    {
     "data": {
      "text/plain": [
       "0"
      ]
     },
     "execution_count": 61,
     "metadata": {},
     "output_type": "execute_result"
    }
   ],
   "source": [
    "(1000000000 - 1000) % 28"
   ]
  },
  {
   "cell_type": "markdown",
   "metadata": {},
   "source": [
    "Answer is therefore the same as `play(world, time=1000)`"
   ]
  },
  {
   "cell_type": "code",
   "execution_count": null,
   "metadata": {},
   "outputs": [],
   "source": []
  }
 ],
 "metadata": {
  "kernelspec": {
   "display_name": "py36",
   "language": "python",
   "name": "py36"
  },
  "language_info": {
   "codemirror_mode": {
    "name": "ipython",
    "version": 3
   },
   "file_extension": ".py",
   "mimetype": "text/x-python",
   "name": "python",
   "nbconvert_exporter": "python",
   "pygments_lexer": "ipython3",
   "version": "3.6.4"
  }
 },
 "nbformat": 4,
 "nbformat_minor": 2
}
