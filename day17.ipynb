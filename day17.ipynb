{
 "cells": [
  {
   "cell_type": "markdown",
   "metadata": {},
   "source": [
    "## Make sandy earth"
   ]
  },
  {
   "cell_type": "code",
   "execution_count": 67,
   "metadata": {},
   "outputs": [],
   "source": [
    "data = \"\"\"x=495, y=2..7\n",
    "y=7, x=495..501\n",
    "x=501, y=3..7\n",
    "x=498, y=2..4\n",
    "x=506, y=1..2\n",
    "x=498, y=10..13\n",
    "x=504, y=10..13\n",
    "y=13, x=498..504\"\"\""
   ]
  },
  {
   "cell_type": "code",
   "execution_count": 68,
   "metadata": {},
   "outputs": [],
   "source": [
    "import re\n",
    "x = list(map(int, re.findall(r'x=([0-9]+)[.,]', data)))\n",
    "y = list(map(int, re.findall(r'y=([0-9]+)[.,]', data)))"
   ]
  },
  {
   "cell_type": "code",
   "execution_count": 69,
   "metadata": {},
   "outputs": [],
   "source": [
    "minx, maxx = min(x)-10, max(x)+10\n",
    "rngx = maxx - minx + 1\n",
    "miny, maxy = min(y), max(y)+10\n",
    "rngy = maxy + 1"
   ]
  },
  {
   "cell_type": "code",
   "execution_count": 70,
   "metadata": {},
   "outputs": [
    {
     "data": {
      "text/plain": [
       "(485, 516, 1, 23)"
      ]
     },
     "execution_count": 70,
     "metadata": {},
     "output_type": "execute_result"
    }
   ],
   "source": [
    "minx, maxx, miny, maxy"
   ]
  },
  {
   "cell_type": "code",
   "execution_count": 71,
   "metadata": {},
   "outputs": [],
   "source": [
    "earth = [rngx * ['.'] for _ in range(maxy)]"
   ]
  },
  {
   "cell_type": "markdown",
   "metadata": {},
   "source": [
    "## Put clay in earth"
   ]
  },
  {
   "cell_type": "code",
   "execution_count": 72,
   "metadata": {},
   "outputs": [],
   "source": [
    "import re\n",
    "xs = re.findall(r'x=([0-9]+), y=([0-9]+)\\.\\.([0-9]+)', data)\n",
    "ys = re.findall(r'y=([0-9]+), x=([0-9]+)\\.\\.([0-9]+)', data)"
   ]
  },
  {
   "cell_type": "code",
   "execution_count": 73,
   "metadata": {},
   "outputs": [],
   "source": [
    "xs = [(int(x), (int(y1), int(y2))) for x, y1, y2 in xs]\n",
    "ys = [(int(y), (int(x1), int(x2))) for y, x1, x2 in ys]"
   ]
  },
  {
   "cell_type": "code",
   "execution_count": 74,
   "metadata": {},
   "outputs": [
    {
     "data": {
      "text/plain": [
       "[(495, (2, 7)),\n",
       " (501, (3, 7)),\n",
       " (498, (2, 4)),\n",
       " (506, (1, 2)),\n",
       " (498, (10, 13)),\n",
       " (504, (10, 13))]"
      ]
     },
     "execution_count": 74,
     "metadata": {},
     "output_type": "execute_result"
    }
   ],
   "source": [
    "xs"
   ]
  },
  {
   "cell_type": "code",
   "execution_count": 77,
   "metadata": {},
   "outputs": [
    {
     "data": {
      "text/plain": [
       "[(7, (495, 501)), (13, (498, 504))]"
      ]
     },
     "execution_count": 77,
     "metadata": {},
     "output_type": "execute_result"
    }
   ],
   "source": [
    "ys"
   ]
  },
  {
   "cell_type": "code",
   "execution_count": 78,
   "metadata": {},
   "outputs": [],
   "source": [
    "def t(a):\n",
    "    \"\"\"Transpose a list of lists.\"\"\"\n",
    "    return list(map(list, zip(*a)))"
   ]
  },
  {
   "cell_type": "code",
   "execution_count": 79,
   "metadata": {},
   "outputs": [],
   "source": [
    "def lprint(l):\n",
    "    for row in l:\n",
    "        print(row)\n",
    "    return\n",
    "\n",
    "def pprint(a):\n",
    "    earth = [\"\".join(row) for row in a]\n",
    "    lprint(earth)\n",
    "    return"
   ]
  },
  {
   "cell_type": "code",
   "execution_count": 88,
   "metadata": {},
   "outputs": [],
   "source": [
    "earth = [rngx * ['.'] for _ in range(maxy)]\n",
    "\n",
    "earth[0][500-minx] = '+'\n",
    "\n",
    "for y, layer in enumerate(earth):\n",
    "    for y_, (x1, x2) in ys:\n",
    "        if y == y_:\n",
    "            layer[x1-minx:x2-minx+1] = (x2-x1+1) * [\"#\"]\n",
    "\n",
    "earth = t(earth)\n",
    "for x, column in enumerate(earth):\n",
    "    for x_, (y1, y2) in xs:\n",
    "        if x == x_-minx:\n",
    "            column[y1:y2+1] = (y2-y1+1) * [\"#\"]\n",
    "earth = t(earth)"
   ]
  },
  {
   "cell_type": "code",
   "execution_count": 89,
   "metadata": {},
   "outputs": [
    {
     "name": "stdout",
     "output_type": "stream",
     "text": [
      "...............+................\n",
      ".....................#..........\n",
      "..........#..#.......#..........\n",
      "..........#..#..#...............\n",
      "..........#..#..#...............\n",
      "..........#.....#...............\n",
      "..........#.....#...............\n",
      "..........#######...............\n",
      "................................\n",
      "................................\n",
      ".............#.....#............\n",
      ".............#.....#............\n",
      ".............#.....#............\n",
      ".............#######............\n",
      "................................\n",
      "................................\n",
      "................................\n",
      "................................\n",
      "................................\n",
      "................................\n",
      "................................\n",
      "................................\n",
      "................................\n"
     ]
    }
   ],
   "source": [
    "pprint(earth)"
   ]
  },
  {
   "cell_type": "markdown",
   "metadata": {},
   "source": [
    "## Pour and propagate water"
   ]
  },
  {
   "cell_type": "code",
   "execution_count": 126,
   "metadata": {},
   "outputs": [],
   "source": [
    "def s(earth):\n",
    "    return [''.join(lyr) for lyr in earth]"
   ]
  },
  {
   "cell_type": "code",
   "execution_count": null,
   "metadata": {},
   "outputs": [],
   "source": []
  },
  {
   "cell_type": "code",
   "execution_count": null,
   "metadata": {},
   "outputs": [],
   "source": [
    "t = 0\n",
    "\n",
    "while t < 1000:\n",
    "    \n",
    "    # Turn into vertical strings.    \n",
    "    ev = s(t(earth))\n",
    "    for col in ev:\n",
    "        re.sub(r'\\+(\\.)+?#', lambda m: len(m.group())*'|', col)\n",
    "        re.sub(r'\\+(\\.)+?#', lambda m: len(m.group())*'|', col)\n",
    "    \n",
    "    # Turn into horizontal strings\n",
    "    \n",
    "    t += 1"
   ]
  },
  {
   "cell_type": "code",
   "execution_count": 123,
   "metadata": {},
   "outputs": [
    {
     "data": {
      "text/plain": [
       "'+|||||||||||||||||||#...........#####.........'"
      ]
     },
     "execution_count": 123,
     "metadata": {},
     "output_type": "execute_result"
    }
   ],
   "source": [
    "def cb(m):\n",
    "    return '|' * len(m.group())\n",
    "\n",
    "re.sub(r'(?<=\\+)(\\.+?)(?=#)', cb, '+..................|#...........#####.........')"
   ]
  },
  {
   "cell_type": "code",
   "execution_count": null,
   "metadata": {},
   "outputs": [],
   "source": []
  }
 ],
 "metadata": {
  "kernelspec": {
   "display_name": "py37",
   "language": "python",
   "name": "py37"
  },
  "language_info": {
   "codemirror_mode": {
    "name": "ipython",
    "version": 3
   },
   "file_extension": ".py",
   "mimetype": "text/x-python",
   "name": "python",
   "nbconvert_exporter": "python",
   "pygments_lexer": "ipython3",
   "version": "3.7.0"
  }
 },
 "nbformat": 4,
 "nbformat_minor": 2
}
