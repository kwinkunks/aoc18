{
 "cells": [
  {
   "cell_type": "code",
   "execution_count": 4,
   "metadata": {},
   "outputs": [],
   "source": [
    "def play(n):\n",
    "    recipes = [3, 7]\n",
    "    elf1, elf2 = 0, 1\n",
    "\n",
    "    while len(recipes) < n + 10:\n",
    "\n",
    "        e1, e2 = recipes[elf1], recipes[elf2]\n",
    "        new_recipe = e1 + e2\n",
    "        ext = (1, new_recipe%10) if new_recipe // 10 else (new_recipe%10,)\n",
    "        recipes.extend(ext)\n",
    "\n",
    "        elf1 = (elf1 + e1 + 1) % len(recipes)\n",
    "        elf2 = (elf2 + e2 + 1) % len(recipes)\n",
    "       \n",
    "    return ''.join(map(str, recipes[-10:]))"
   ]
  },
  {
   "cell_type": "code",
   "execution_count": 5,
   "metadata": {},
   "outputs": [
    {
     "data": {
      "text/plain": [
       "'6985103122'"
      ]
     },
     "execution_count": 5,
     "metadata": {},
     "output_type": "execute_result"
    }
   ],
   "source": [
    "play(380621)"
   ]
  },
  {
   "cell_type": "markdown",
   "metadata": {},
   "source": [
    "## Part 2"
   ]
  },
  {
   "cell_type": "code",
   "execution_count": 6,
   "metadata": {},
   "outputs": [],
   "source": [
    "def play(n):\n",
    "    recipes = [3, 7]\n",
    "    elf1, elf2 = 0, 1\n",
    "\n",
    "    while len(recipes) < n:\n",
    "\n",
    "        e1, e2 = recipes[elf1], recipes[elf2]\n",
    "        new_recipe = e1 + e2\n",
    "        ext = (1, new_recipe%10) if new_recipe // 10 else (new_recipe%10,)\n",
    "        recipes.extend(ext)\n",
    "\n",
    "        # Count to new\n",
    "        elf1 = (elf1 + e1 + 1) % len(recipes)\n",
    "        elf2 = (elf2 + e2 + 1) % len(recipes)\n",
    "\n",
    "        if recipes[-6:] == [3, 8, 0, 6, 2, 1]:\n",
    "            break\n",
    "            \n",
    "        # It took me ages to realize that you have to check this too...\n",
    "        if recipes[-7:-1] == [3, 8, 0, 6, 2, 1]:\n",
    "            break\n",
    "        \n",
    "    return len(recipes)-6, recipes[-15:]"
   ]
  },
  {
   "cell_type": "code",
   "execution_count": 7,
   "metadata": {},
   "outputs": [
    {
     "data": {
      "text/plain": [
       "(20182291, [8, 9, 1, 1, 1, 2, 1, 0, 3, 8, 0, 6, 2, 1, 5])"
      ]
     },
     "execution_count": 7,
     "metadata": {},
     "output_type": "execute_result"
    }
   ],
   "source": [
    "play(50000000)"
   ]
  },
  {
   "cell_type": "code",
   "execution_count": 8,
   "metadata": {},
   "outputs": [],
   "source": [
    "# Wrong\n",
    "# 80261429"
   ]
  },
  {
   "cell_type": "code",
   "execution_count": null,
   "metadata": {
    "collapsed": true
   },
   "outputs": [],
   "source": []
  }
 ],
 "metadata": {
  "kernelspec": {
   "display_name": "Python 3",
   "language": "python",
   "name": "python3"
  },
  "language_info": {
   "codemirror_mode": {
    "name": "ipython",
    "version": 3
   },
   "file_extension": ".py",
   "mimetype": "text/x-python",
   "name": "python",
   "nbconvert_exporter": "python",
   "pygments_lexer": "ipython3",
   "version": "3.6.4"
  }
 },
 "nbformat": 4,
 "nbformat_minor": 2
}
